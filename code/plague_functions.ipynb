{
 "cells": [
  {
   "cell_type": "code",
   "execution_count": 2,
   "metadata": {
    "collapsed": false
   },
   "outputs": [
    {
     "name": "stderr",
     "output_type": "stream",
     "text": [
      "/usr/local/lib/python2.7/dist-packages/matplotlib/font_manager.py:273: UserWarning: Matplotlib is building the font cache using fc-list. This may take a moment.\n",
      "  warnings.warn('Matplotlib is building the font cache using fc-list. This may take a moment.')\n"
     ]
    }
   ],
   "source": [
    "from __future__ import print_function, division\n",
    "\n",
    "%matplotlib inline\n",
    "%precision 3\n",
    "import random\n",
    "import warnings\n",
    "warnings.filterwarnings('ignore')\n",
    "\n",
    "import matplotlib.pyplot as plt\n",
    "\n",
    "import random\n",
    "import networkx as nx\n",
    "import numpy as np\n",
    "import copy\n",
    "\n",
    "import thinkplot\n",
    "import thinkstats2"
   ]
  },
  {
   "cell_type": "code",
   "execution_count": 3,
   "metadata": {
    "collapsed": true
   },
   "outputs": [],
   "source": [
    "class Student(object):\n",
    "    \"\"\" \n",
    "    Base student; used as node in network. \n",
    "    \"\"\"\n",
    "\n",
    "    def __init__(self, immune_strength=5, tolerance=50):\n",
    "        self.immune_strength = immune_strength #rate of lowering exposure\n",
    "        self.tolerance = tolerance # value at which is_sick\n",
    "        self.exposure = 0\n",
    "        self.is_sick = 0 # 0: not sick; 1: sick; 2: was sick already\n",
    "        \n",
    "    def process_exposure(self):\n",
    "        if self.is_sick == 2:\n",
    "            return\n",
    "        self.exposure -= self.immune_strength\n",
    "        \n",
    "        if self.is_sick == 1:\n",
    "            if self.exposure <= 0:\n",
    "                self.is_sick = 2\n",
    "        elif self.is_sick == 0:\n",
    "            if self.exposure >= self.tolerance:\n",
    "                self.is_sick = 1\n"
   ]
  },
  {
   "cell_type": "code",
   "execution_count": 4,
   "metadata": {
    "collapsed": true
   },
   "outputs": [],
   "source": [
    "class MeaslesStudent(object):\n",
    "    \"\"\" \n",
    "    Base student with measles (an asymptomatic infectious step); used as node in network. \n",
    "    \"\"\"\n",
    "\n",
    "    def __init__(self, immune_strength=5, tolerance=50, totalUnaware=1):\n",
    "        self.immune_strength = immune_strength #rate of lowering exposure\n",
    "        self.tolerance = tolerance # value at which is_sick\n",
    "        self.exposure = 0\n",
    "        self.is_sick = 0 # 0: not sick; 1: sick; 2: was sick already; 3: infectious but unaware\n",
    "        self.days_unaware = 0\n",
    "        self.total_unaware = totalUnaware \n",
    "        \n",
    "    def process_exposure(self):\n",
    "        if self.is_sick == 2:\n",
    "            return\n",
    "        self.exposure -= self.immune_strength\n",
    "        \n",
    "        if self.is_sick == 1:\n",
    "            if self.exposure <= 0:\n",
    "                self.is_sick = 2\n",
    "        elif self.is_sick == 0:\n",
    "            if self.exposure >= self.tolerance:\n",
    "                self.is_sick = 3\n",
    "        elif self.is_sick == 3:\n",
    "            self.days_unaware += 1\n",
    "            if self.days_unaware >= self.total_unaware:\n",
    "                self.is_sick = 1"
   ]
  },
  {
   "cell_type": "code",
   "execution_count": 58,
   "metadata": {
    "collapsed": true
   },
   "outputs": [],
   "source": [
    "def create_student_ba_graph(size=100, new_edges_per_node=3, roommate=True):\n",
    "    \"\"\" \n",
    "    Creates a graph of [size] Student nodes, using weighted connections.\n",
    "    Returns two graphs - the first, of Measles students, and the second, of non-measles students.\n",
    "    \"\"\"\n",
    "    G = nx.Graph()\n",
    "    if size <= 0:\n",
    "        return G\n",
    "    \n",
    "    first_student = MeaslesStudent()\n",
    "    G.add_node(first_student)\n",
    "    \n",
    "    students_list = []\n",
    "    students_list.append([first_student,0])\n",
    "\n",
    "    #Build the BA graph.\n",
    "    for i in range(size):\n",
    "        im = random.randint(4,8)\n",
    "        tol = random.randint(40,80)\n",
    "        new_student = MeaslesStudent(\n",
    "            immune_strength = im, \n",
    "            tolerance = tol,\n",
    "            totalUnaware = 4);\n",
    "        G.add_node(new_student)\n",
    "        all_students = range(len(students_list))\n",
    "        probs_base = [float(k[1]+1) for k in students_list]\n",
    "        probs = probs_base/np.sum(probs_base)\n",
    "        number_of_friends = min(len(students_list), new_edges_per_node)\n",
    "        new_friends = np.random.choice(all_students, size=number_of_friends, replace=False, p=probs)\n",
    "        for friend in new_friends:\n",
    "            students_list[friend][1] += 1\n",
    "            G.add_edge(new_student, students_list[friend][0])\n",
    "        students_list.append([new_student, nx.degree(G, new_student)])\n",
    " \n",
    "    #Assign strength to edges.\n",
    "    social = {}\n",
    "    for edge in G.edges():\n",
    "        social[edge] = random.randint(5,10)\n",
    "    nx.set_edge_attributes(G, \"social\", social)\n",
    "    \n",
    "    #Create roommate pairs\n",
    "    if roommate == True:       \n",
    "        G = create_Roommates(G)\n",
    "    \n",
    "        #Create an identical network, but with Student nodes.\n",
    "        F = G.copy()\n",
    "        for node in F.nodes():\n",
    "            im_s = int(node.immune_strength)\n",
    "            tol = int(node.tolerance)\n",
    "            node = Student(immune_strength = im_s, tolerance = tol)\n",
    "        F.type = \"cold\"\n",
    "        G.type = \"measles\" # For later checks. Not always relevant.\n",
    "    else: #roommates = false\n",
    "        F = G.copy()\n",
    "        for node in F.nodes():\n",
    "            im_s = int(node.immune_strength)\n",
    "            tol = int(node.tolerance)\n",
    "            node = Student(immune_strength = im_s, tolerance = tol)\n",
    "        F.type = \"cold\"\n",
    "        G = create_Roommates(F)\n",
    "        G.type = \"cold\"\n",
    "    return F, G\n",
    "\n",
    "\n",
    "def create_Roommates(G):\n",
    "    '''Randomly pairs nodes in G as roommates.'''\n",
    "    all_nodes = G.nodes()\n",
    "    random.shuffle(all_nodes)\n",
    "    for i in range(len(all_nodes) // 2):\n",
    "        first_roommate = all_nodes[2*i]\n",
    "        second_roommate = all_nodes[(2*i) + 1]\n",
    "        if not G.has_edge(first_roommate, second_roommate):\n",
    "            G.add_edge(first_roommate, second_roommate)\n",
    "            this_pair = G[first_roommate][second_roommate]\n",
    "            this_pair[\"social\"] = 20\n",
    "        else:\n",
    "            this_pair = G[first_roommate][second_roommate]\n",
    "            this_pair[\"social\"] = 20\n",
    "    return G\n",
    "\n",
    "\n",
    "def draw_sickness_graph(G, pos):\n",
    "    \"\"\" \n",
    "    Draws a graph, with red as sick, \n",
    "    blue as recovered, \n",
    "    green as never sick. Colors aren't set in stone.\n",
    "    \"\"\"\n",
    "    sick_nodes = [node for node in G.nodes() if node.is_sick == 1]\n",
    "    recovered_nodes = [node for node in G.nodes() if node.is_sick == 2]\n",
    "    healthy_nodes = [node for node in G.nodes() if node.is_sick == 0]\n",
    "\n",
    "    nx.draw_networkx_nodes(G, pos, nodelist=sick_nodes, node_color='r')\n",
    "    nx.draw_networkx_nodes(G, pos, nodelist=healthy_nodes, node_color='g')\n",
    "    nx.draw_networkx_nodes(G, pos, nodelist=recovered_nodes, node_color='b')\n",
    "    nx.draw_networkx_edges(G, pos)\n",
    "    plt.axis('off')\n",
    "    plt.show()"
   ]
  },
  {
   "cell_type": "code",
   "execution_count": 59,
   "metadata": {
    "collapsed": true
   },
   "outputs": [],
   "source": [
    "#This cell contains two versions of the step function. Whichever 'step' points to will be the one used.\n",
    "#Ideally, which is called would be controlled by a boolean, or an anonymized function would be passed.\n",
    "#However, we didn't do that. Re-defining the function as-needed is a bit sketchy, but it works for practical purposes.\n",
    "\n",
    "# def step(G):\n",
    "#     \"\"\"Step function for a generic disease - so, not measles.\"\"\"\n",
    "#     total_sick = 0\n",
    "#     for node in G.nodes():\n",
    "#         if node.is_sick == 0:\n",
    "#             for neighbor in G.neighbors(node):\n",
    "#                 if neighbor.is_sick == 1:\n",
    "#                     node.exposure += G[node][neighbor][\"social\"]\n",
    "#         elif node.is_sick == 1:\n",
    "#             total_sick += 1\n",
    "#     for node in G.nodes():\n",
    "#         node.process_exposure() #separate step\n",
    "#     return total_sick\n",
    "\n",
    "# def step(G, quarantine_factor = 2, measles_factor = 3):\n",
    "#     ''' Measles infectious step - \n",
    "#     with is_sick=1, infects at (1/quarantine_factor)x rate.\n",
    "#     with is_sick=3 (infectious but unaware), infects at (measles_factor)x rate'''\n",
    "#     total_sick = 0\n",
    "#     for node in G.nodes():\n",
    "#         if node.is_sick == 0:\n",
    "#             for neighbor in G.neighbors(node):\n",
    "#                 if neighbor.is_sick == 1:\n",
    "#                     node.exposure += (G[node][neighbor][\"social\"]/quarantine_factor) #todo: differentiate for student plain.\n",
    "#                 if neighbor.is_sick == 3:\n",
    "#                     node.exposure += measles_factor*(G[node][neighbor][\"social\"])\n",
    "                    \n",
    "#         elif node.is_sick == 1 or node.is_sick == 3:\n",
    "#             total_sick += 1\n",
    "#     for node in G.nodes():\n",
    "#         node.process_exposure() #separate step\n",
    "#     return total_sick"
   ]
  },
  {
   "cell_type": "code",
   "execution_count": 60,
   "metadata": {
    "collapsed": false
   },
   "outputs": [],
   "source": [
    "def step(G):\n",
    "    \"\"\" Step function, taking disease type into account. Right now, does it by checking a string - not the cleanest, but it works. Returns total sick before the step occurs.\"\"\"\n",
    "    total_sick = 0\n",
    "    if G.type != None and G.type == \"measles\":\n",
    "        for node in G.nodes():\n",
    "            if node.is_sick == 0:\n",
    "                for neighbor in G.neighbors(node):\n",
    "                    if neighbor.is_sick == 1:\n",
    "                        node.exposure += (G[node][neighbor][\"social\"]/2) # Self-quarantined; halved transmimssion.\n",
    "                    if neighbor.is_sick == 3:\n",
    "                        node.exposure += (G[node][neighbor][\"social\"]*2)\n",
    "            if node.is_sick == 1 or node.is_sick == 3:\n",
    "                total_sick += 1\n",
    "    else: # \"cold\" type for now\n",
    "        for node in G.nodes():\n",
    "            if node.is_sick == 0:\n",
    "                for neighbor in G.neighbors(node):\n",
    "                    if neighbor.is_sick == 1:\n",
    "                        node.exposure += (G[node][neighbor][\"social\"])\n",
    "            if node.is_sick == 1:\n",
    "                total_sick += 1\n",
    "    for node in G.nodes():\n",
    "        node.process_exposure()\n",
    "    return total_sick\n",
    "                        "
   ]
  },
  {
   "cell_type": "code",
   "execution_count": 61,
   "metadata": {
    "collapsed": true
   },
   "outputs": [],
   "source": [
    "def run_graph(graph, iters):\n",
    "    #instantiate patient zero being the same node in both \n",
    "    patient_zero = graph.nodes()[0]\n",
    "    patient_zero.exposure = 100\n",
    "    if graph.type == \"measles\":\n",
    "        patient_zero.is_sick = 3\n",
    "    else:\n",
    "        patient_zero.is_sick = 1\n",
    "\n",
    "    sick = []\n",
    "    time_step = []\n",
    "    for i in range(iters):\n",
    "        sick.append(step(graph))\n",
    "        time_step.append(i)\n",
    "    return sick, time_step"
   ]
  },
  {
   "cell_type": "code",
   "execution_count": 62,
   "metadata": {
    "collapsed": true
   },
   "outputs": [],
   "source": [
    "def run_trials_same_graph(G,F,iters,total):\n",
    "    '''Runs a large number of trials for the same starting conditions (the input graphs), with randomized starting nodes.'''\n",
    "    maxG = []\n",
    "    maxF = []\n",
    "    avgG = []\n",
    "    avgF = []\n",
    "    for i in range(total):\n",
    "        sickG,time_stepG = run_graph(G.copy(),iters)\n",
    "        sickF,time_stepF = run_graph(F.copy(),iters)\n",
    "        maxG.append(max(sickG))\n",
    "        maxF.append(max(sickF))\n",
    "        avgG.append(sum(sickG)/len(sickG))\n",
    "        avgF.append(sum(sickF)/len(sickF))\n",
    "    return maxG,avgG,maxF,avgF\n",
    "\n",
    "def run_trials_different_graphs(t_size = 100, t_edges = 3, t_roommate = True, iters = 50, total = 100):\n",
    "    ''' Generates total graphs, each of iters steps for the parameter of interest (defaults to measles unless t_roommate is False), and returns maxG, avgG, maxF, avgF.\n",
    "    Parameters don't currently do anything. '''\n",
    "    maxG = []\n",
    "    maxF = []\n",
    "    avgG = []\n",
    "    avgF = []\n",
    "    for i in range(total):\n",
    "        F, G = create_student_ba_graph(size = t_size, new_edges_per_node = t_edges, roommate = t_roommate)\n",
    "        sickG,time_stepG = run_graph(G,iters)\n",
    "        sickF,time_stepF = run_graph(F,iters)\n",
    "        maxG.append(max(sickG))\n",
    "        maxF.append(max(sickF))\n",
    "        avgG.append(sum(sickG)/len(sickG))\n",
    "        avgF.append(sum(sickF)/len(sickF))\n",
    "    return maxG,avgG,maxF,avgF\n",
    "\n",
    "def frequencyFinder(stats):\n",
    "    ''' Helper function for CDF creation. Feed it a list of values, and get out the key-value pairs.'''\n",
    "    res = {}\n",
    "    for i in stats:\n",
    "        if i not in res:\n",
    "            res[i] = 1\n",
    "        else:\n",
    "            res[i] +=1\n",
    "    \n",
    "    keys = sorted(res.keys())\n",
    "    values = []\n",
    "    for key in keys:\n",
    "        values.append(res[key])\n",
    "    return keys,values\n",
    "        \n"
   ]
  },
  {
   "cell_type": "markdown",
   "metadata": {},
   "source": [
    "The following cells create sample graphs, like the ones in the project report. The extra function definitions are to deal with a known lack of modularity in our original code."
   ]
  },
  {
   "cell_type": "code",
   "execution_count": 63,
   "metadata": {
    "collapsed": false
   },
   "outputs": [
    {
     "data": {
      "image/png": "[encoded data removed]",
      "text/plain": [
       "<matplotlib.figure.Figure at 0x7f3f4d025a10>"
      ]
     },
     "metadata": {},
     "output_type": "display_data"
    },
    {
     "data": {
      "image/png": "[encoded data removed]",
      "text/plain": [
       "<matplotlib.figure.Figure at 0x7f3f4cc56510>"
      ]
     },
     "metadata": {},
     "output_type": "display_data"
    }
   ],
   "source": [
    "# This cell creates a plot of one run, measles vs. not-measles over time.\n",
    "F, G = create_student_ba_graph()\n",
    "measles_sick, measles_times = run_graph(G,50)\n",
    "nm_sick, nm_times = run_graph(F, 50)\n",
    "\n",
    "plt.plot(measles_times, measles_sick)\n",
    "plt.ylabel('Number of nodes sick')\n",
    "plt.xlabel('Steps')\n",
    "plt.axis([0, measles_times[-1], 0, max(measles_sick)+5])\n",
    "plt.title('Measles')\n",
    "plt.show()\n",
    "\n",
    "plt.plot(nm_times, nm_sick)\n",
    "plt.ylabel('Number of nodes sick')\n",
    "plt.xlabel('Steps')\n",
    "plt.axis([0, nm_times[-1], 0, max(nm_sick)+5])\n",
    "plt.title('Non-measles')\n",
    "plt.show()\n"
   ]
  },
  {
   "cell_type": "code",
   "execution_count": 64,
   "metadata": {
    "collapsed": false
   },
   "outputs": [
    {
     "data": {
      "image/png": "[encoded data removed]",
      "text/plain": [
       "<matplotlib.figure.Figure at 0x7f3f4d323550>"
      ]
     },
     "metadata": {},
     "output_type": "display_data"
    },
    {
     "data": {
      "image/png": "[encoded data removed]",
      "text/plain": [
       "<matplotlib.figure.Figure at 0x7f3f4d2c0790>"
      ]
     },
     "metadata": {},
     "output_type": "display_data"
    }
   ],
   "source": [
    "# This cell creates a plot of one run, roommate vs. not-roommate over time.\n",
    "\n",
    "F = create_student_ba_graph(roommate = False)[0]\n",
    "F.type = \"cold\"\n",
    "G = create_Roommates(F.copy())\n",
    "G.type = \"cold\"\n",
    "\n",
    "room_sick, room_times = run_graph(G, 50)\n",
    "nr_sick, nr_times = run_graph(F, 50)\n",
    "\n",
    "\n",
    "plt.plot(room_times, room_sick)\n",
    "plt.ylabel('Number of nodes sick')\n",
    "plt.xlabel('Steps')\n",
    "plt.axis([0, room_times[-1], 0, max(room_sick)+5])\n",
    "plt.title('Roommates')\n",
    "plt.show()\n",
    "\n",
    "plt.plot(nr_times, nr_sick)\n",
    "plt.ylabel('Number of nodes sick')\n",
    "plt.xlabel('Steps')\n",
    "plt.axis([0, nr_times[-1], 0, max(nr_sick)+5])\n",
    "plt.title('No Roommates')\n",
    "plt.show()\n"
   ]
  },
  {
   "cell_type": "code",
   "execution_count": 65,
   "metadata": {
    "collapsed": false
   },
   "outputs": [
    {
     "data": {
      "image/png": "[encoded data removed]",
      "text/plain": [
       "<matplotlib.figure.Figure at 0x7f3f4cdebf50>"
      ]
     },
     "metadata": {},
     "output_type": "display_data"
    }
   ],
   "source": [
    "# This cell creates a CDF of many runs, comparing measles vs. not-measles.\n",
    "\n",
    "F, G = create_student_ba_graph()\n",
    "iters = 50\n",
    "total = 100\n",
    "\n",
    "# maxG, avgG, maxF, avgF = run_trials_same_graph(G.copy(),F.copy(),iters,total) #Can replace with different graphs as-needed.\n",
    "\n",
    "# thinkplot.Cdf(thinkstats2.Cdf(avgG), label=\"BA with Measles\")\n",
    "# thinkplot.Cdf(thinkstats2.Cdf(avgF), label=\"BA without\")\n",
    "# thinkplot.config(xlabel='Average Infected', ylabel='CDF',title=\"Average Sick Nodes\")\n",
    "\n",
    "maxG, avgG, maxF, avgF = run_trials_different_graphs()\n",
    "thinkplot.Cdf(thinkstats2.Cdf(avgG), label=\"BA with Measles\")\n",
    "thinkplot.Cdf(thinkstats2.Cdf(avgF), label=\"BA without\")\n",
    "thinkplot.config(xlabel='Average Infected', ylabel='CDF', xscale=\"log\", title=\"Average Sick Nodes\")"
   ]
  },
  {
   "cell_type": "code",
   "execution_count": 67,
   "metadata": {
    "collapsed": false
   },
   "outputs": [
    {
     "data": {
      "image/png": "[encoded data removed]",
      "text/plain": [
       "<matplotlib.figure.Figure at 0x7f3f4d2cd550>"
      ]
     },
     "metadata": {},
     "output_type": "display_data"
    }
   ],
   "source": [
    "# This cell creates a CDF of many runs, comparing roommate vs. not-roommate.\n",
    "\n",
    "maxG, avgG, maxF, avgF = run_trials_different_graphs(t_roommate = False)\n",
    "thinkplot.Cdf(thinkstats2.Cdf(avgG), label=\"BA with Roommates\")\n",
    "thinkplot.Cdf(thinkstats2.Cdf(avgF), label=\"BA\")\n",
    "thinkplot.config(xlabel=\"Average infected\", ylabel = \"Frequency\", title = \"Peak sick nodes\")\n",
    "\n",
    "# a,b,c,d = run_trials_same_graph(G,F,50,100)\n",
    "# thinkplot.Cdf(thinkstats2.Cdf(a), label=\"BA with Roommates\")\n",
    "# thinkplot.Cdf(thinkstats2.Cdf(c), label=\"BA\")\n",
    "# thinkplot.config(xlabel='Max Infected', ylabel='CDF',title=\"Peak Sick Nodes\")\n",
    "\n",
    "# thinkplot.Cdf(thinkstats2.Cdf(b), label=\"BA with Roomates\")\n",
    "# thinkplot.Cdf(thinkstats2.Cdf(d), label=\"BA\")\n",
    "# thinkplot.config(xlabel='Average Infected', ylabel='CDF',title=\"Average Sick Nodes\")"
   ]
  },
  {
   "cell_type": "code",
   "execution_count": null,
   "metadata": {
    "collapsed": true
   },
   "outputs": [],
   "source": []
  }
 ],
 "metadata": {
  "kernelspec": {
   "display_name": "Python 2",
   "language": "python",
   "name": "python2"
  },
  "language_info": {
   "codemirror_mode": {
    "name": "ipython",
    "version": 2
   },
   "file_extension": ".py",
   "mimetype": "text/x-python",
   "name": "python",
   "nbconvert_exporter": "python",
   "pygments_lexer": "ipython2",
   "version": "2.7.6"
  }
 },
 "nbformat": 4,
 "nbformat_minor": 0
}
