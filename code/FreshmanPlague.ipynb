{
 "cells": [
  {
   "cell_type": "code",
   "execution_count": 20,
   "metadata": {
    "collapsed": false
   },
   "outputs": [],
   "source": [
    "from __future__ import print_function, division\n",
    "\n",
    "%matplotlib inline\n",
    "%precision 3\n",
    "import random\n",
    "import warnings\n",
    "warnings.filterwarnings('ignore')\n",
    "\n",
    "import matplotlib.pyplot as plt\n",
    "\n",
    "import random\n",
    "import networkx as nx\n",
    "import numpy as np\n",
    "import copy\n",
    "\n",
    "# import thinkplot"
   ]
  },
  {
   "cell_type": "code",
   "execution_count": 21,
   "metadata": {
    "collapsed": true
   },
   "outputs": [],
   "source": [
    "class Student(object):\n",
    "    \"\"\" \n",
    "    Base student; used as node in network. \n",
    "    \"\"\"\n",
    "\n",
    "    def __init__(self, immune_strength=5, tolerance=50):\n",
    "        self.immune_strength = immune_strength #rate of lowering exposure\n",
    "        self.tolerance = tolerance # value at which is_sick\n",
    "        self.exposure = 0\n",
    "        self.is_sick = 0 # 0: not sick; 1: sick; 2: was sick already\n",
    "        \n",
    "    def process_exposure(self):\n",
    "        if self.is_sick == 2:\n",
    "            return\n",
    "        self.exposure -= self.immune_strength\n",
    "        \n",
    "        if self.is_sick == 1:\n",
    "            if self.exposure <= 0:\n",
    "                self.is_sick = 2\n",
    "        elif self.is_sick == 0:\n",
    "            if self.exposure >= self.tolerance:\n",
    "                self.is_sick = 1\n"
   ]
  },
  {
   "cell_type": "code",
   "execution_count": 22,
   "metadata": {
    "collapsed": false
   },
   "outputs": [],
   "source": [
    "def create_student_ba_graph(size=50, new_edges_per_node=3, roommate=True):\n",
    "    \"\"\" \n",
    "    Creates a graph of [size] Student nodes, using weighted connections.\n",
    "    Eventually, efficiency might be a concern here. Should be fine\n",
    "    for n=90, though.\n",
    "    TODO: vary the edges new nodes introduce.\n",
    "    TODO: roommates, relationships, etc - \"colored\" edges.\n",
    "    \"\"\"\n",
    "    G = nx.Graph()\n",
    "    if size <= 0:\n",
    "        return G\n",
    "    \n",
    "    first_student = Student()\n",
    "    G.add_node(first_student)\n",
    "    \n",
    "    students_list = []\n",
    "    students_list.append([first_student,0])\n",
    "    \n",
    "    for i in range(size):\n",
    "        new_student = Student(\n",
    "            immune_strength = random.randint(4,8), \n",
    "            tolerance = random.randint(40,80));\n",
    "        G.add_node(new_student)\n",
    "        all_students = range(len(students_list))\n",
    "        probs_base = [float(k[1]+1) for k in students_list]\n",
    "        probs = probs_base/np.sum(probs_base)\n",
    "        number_of_friends = min(len(students_list), new_edges_per_node)\n",
    "        new_friends = np.random.choice(all_students, size=number_of_friends, replace=False, p=probs)\n",
    "        for friend in new_friends:\n",
    "            students_list[friend][1] += 1\n",
    "            G.add_edge(new_student, students_list[friend][0])\n",
    "        students_list.append([new_student, nx.degree(G, new_student)])\n",
    "\n",
    "        \n",
    "    social = {}\n",
    "    for edge in G.edges():\n",
    "        social[edge] = random.randint(1,10)\n",
    "        \n",
    "    nx.set_edge_attributes(G, \"social\", social)\n",
    "    #Create Roommates\n",
    "    if roommate == True:\n",
    "        F = G.copy()\n",
    "        G = create_Roommates(G)\n",
    "    \n",
    "    return G,F\n",
    "\n",
    "def create_Roommates(G):\n",
    "    all_nodes = G.nodes() #i removed the [:] because it seemed vestigial\n",
    "    random.shuffle(all_nodes)\n",
    "    for i in range(len(all_nodes) // 2):\n",
    "        first_roommate = all_nodes[2*i]\n",
    "        second_roommate = all_nodes[(2*i) + 1]\n",
    "        if not G.has_edge(first_roommate, second_roommate):\n",
    "            G.add_edge(first_roommate, second_roommate)\n",
    "            this_pair = G[first_roommate][second_roommate]\n",
    "            this_pair[\"social\"] = 20\n",
    "        else:\n",
    "            this_pair = G[first_roommate][second_roommate]\n",
    "            this_pair[\"social\"] = 20\n",
    "    return G\n",
    "\n",
    "\n",
    "def draw_sickness_graph(G, pos):\n",
    "    \"\"\" \n",
    "    Draws a graph, with red as sick, \n",
    "    blue as recovered, \n",
    "    green as never sick? colors are iffy right now.\n",
    "    \"\"\"\n",
    "    sick_nodes = [node for node in G.nodes() if node.is_sick == 1]\n",
    "    recovered_nodes = [node for node in G.nodes() if node.is_sick == 2]\n",
    "    healthy_nodes = [node for node in G.nodes() if node.is_sick == 0]\n",
    "\n",
    "    nx.draw_networkx_nodes(G, pos, nodelist=sick_nodes, node_color='r')\n",
    "    nx.draw_networkx_nodes(G, pos, nodelist=healthy_nodes, node_color='g')\n",
    "    nx.draw_networkx_nodes(G, pos, nodelist=recovered_nodes, node_color='b')\n",
    "    nx.draw_networkx_edges(G, pos)\n",
    "    plt.axis('off')\n",
    "    plt.show()"
   ]
  },
  {
   "cell_type": "code",
   "execution_count": 23,
   "metadata": {
    "collapsed": true
   },
   "outputs": [],
   "source": [
    "def step(G):\n",
    "    total_sick = 0\n",
    "    for node in G.nodes():\n",
    "        if node.is_sick == 0:\n",
    "            for neighbor in G.neighbors(node):\n",
    "                if neighbor.is_sick == 1:\n",
    "                    node.exposure += G[node][neighbor][\"social\"]\n",
    "        elif node.is_sick == 1:\n",
    "            total_sick += 1\n",
    "    for node in G.nodes():\n",
    "        node.process_exposure() #separate step\n",
    "    \n",
    "    return total_sick"
   ]
  },
  {
   "cell_type": "code",
   "execution_count": 24,
   "metadata": {
    "collapsed": false
   },
   "outputs": [],
   "source": [
    "# G, F = create_student_ba_graph()\n",
    "# G_positions = nx.drawing.spring_layout(G[0]) \n",
    "# draw_sickness_graph(G[0], G_positions)"
   ]
  },
  {
   "cell_type": "code",
   "execution_count": 25,
   "metadata": {
    "collapsed": false
   },
   "outputs": [],
   "source": [
    "# patient_zero = random.choice(G.nodes())\n",
    "# patient_zero.exposure = 100\n",
    "# patient_zero.is_sick = 1\n",
    "# draw_sickness_graph(G, G_positions)"
   ]
  },
  {
   "cell_type": "code",
   "execution_count": 26,
   "metadata": {
    "collapsed": false
   },
   "outputs": [],
   "source": [
    "# for i in range(10):\n",
    "#     step(G)\n",
    "# draw_sickness_graph(G, G_positions)"
   ]
  },
  {
   "cell_type": "code",
   "execution_count": null,
   "metadata": {
    "collapsed": false
   },
   "outputs": [],
   "source": []
  },
  {
   "cell_type": "code",
   "execution_count": null,
   "metadata": {
    "collapsed": false
   },
   "outputs": [],
   "source": []
  },
  {
   "cell_type": "code",
   "execution_count": null,
   "metadata": {
    "collapsed": false
   },
   "outputs": [],
   "source": []
  },
  {
   "cell_type": "code",
   "execution_count": null,
   "metadata": {
    "collapsed": false
   },
   "outputs": [],
   "source": []
  },
  {
   "cell_type": "code",
   "execution_count": null,
   "metadata": {
    "collapsed": false
   },
   "outputs": [],
   "source": []
  },
  {
   "cell_type": "code",
   "execution_count": null,
   "metadata": {
    "collapsed": false
   },
   "outputs": [],
   "source": []
  },
  {
   "cell_type": "code",
   "execution_count": null,
   "metadata": {
    "collapsed": false
   },
   "outputs": [],
   "source": []
  },
  {
   "cell_type": "code",
   "execution_count": null,
   "metadata": {
    "collapsed": false
   },
   "outputs": [],
   "source": []
  },
  {
   "cell_type": "code",
   "execution_count": null,
   "metadata": {
    "collapsed": false
   },
   "outputs": [],
   "source": []
  },
  {
   "cell_type": "code",
   "execution_count": 27,
   "metadata": {
    "collapsed": true
   },
   "outputs": [],
   "source": [
    "    #needs to be converted to serve our code\n",
    "    #TODO make this work\n",
    "    def animate(frames=20, interval=200, grid=False):\n",
    "        \"\"\"Creates an animation.\n",
    "\n",
    "        frames: number of frames to draw\n",
    "        interval: time between frames in ms\n",
    "        \"\"\"\n",
    "        fig = draw_sickness_graph(G, G_positions)\n",
    "        self.draw(grid)\n",
    "        anim = animation.FuncAnimation(fig, animate_func,\n",
    "                                       init_func=init_func,\n",
    "                                       frames=frames, interval=interval)\n",
    "        return anim\n",
    "\n",
    "    def init_func():\n",
    "        \"\"\"Called at the beginning of an animation.\"\"\"\n",
    "        pass\n",
    "\n",
    "    def animate_func(i):\n",
    "        \"\"\"Draws one frame of the animation.\"\"\"\n",
    "        if i > 0:\n",
    "            self.step()\n",
    "        a = self.viewee.array\n",
    "        self.im.set_array(a)\n",
    "        return (self.im,)"
   ]
  },
  {
   "cell_type": "code",
   "execution_count": 28,
   "metadata": {
    "collapsed": true
   },
   "outputs": [],
   "source": [
    "def run_graph(graph, iters):\n",
    "    #instantiate patient zero being the same node in both \n",
    "    patient_zero = graph.nodes()[0]\n",
    "    patient_zero.exposure = 100\n",
    "    patient_zero.is_sick = 1\n",
    "\n",
    "    sick = []\n",
    "    time_step = []\n",
    "    for i in range(iters):\n",
    "        sick.append(step(graph))\n",
    "        time_step.append(i)\n",
    "    return sick, time_step"
   ]
  },
  {
   "cell_type": "code",
   "execution_count": 29,
   "metadata": {
    "collapsed": false
   },
   "outputs": [],
   "source": [
    "#instantiate the graphs\n",
    "graphs = create_student_ba_graph()\n",
    "#G has roommates, F does not\n",
    "G = graphs[0]\n",
    "F = graphs[1]\n",
    "#run the model a certain number of steps for roommate pairs and without\n",
    "sickG,time_stepG = run_graph(G.copy(),50)\n",
    "sickF,time_stepF = run_graph(F.copy(),50)\n",
    "    "
   ]
  },
  {
   "cell_type": "code",
   "execution_count": 30,
   "metadata": {
    "collapsed": false
   },
   "outputs": [
    {
     "ename": "NameError",
     "evalue": "name 'time_step' is not defined",
     "output_type": "error",
     "traceback": [
      "\u001b[1;31m---------------------------------------------------------------------------\u001b[0m",
      "\u001b[1;31mNameError\u001b[0m                                 Traceback (most recent call last)",
      "\u001b[1;32m<ipython-input-30-02a6064f7d7c>\u001b[0m in \u001b[0;36m<module>\u001b[1;34m()\u001b[0m\n\u001b[0;32m      3\u001b[0m \u001b[0mplt\u001b[0m\u001b[1;33m.\u001b[0m\u001b[0mylabel\u001b[0m\u001b[1;33m(\u001b[0m\u001b[1;34m'Number Sick'\u001b[0m\u001b[1;33m)\u001b[0m\u001b[1;33m\u001b[0m\u001b[0m\n\u001b[0;32m      4\u001b[0m \u001b[0mplt\u001b[0m\u001b[1;33m.\u001b[0m\u001b[0mxlabel\u001b[0m\u001b[1;33m(\u001b[0m\u001b[1;34m'Steps'\u001b[0m\u001b[1;33m)\u001b[0m\u001b[1;33m\u001b[0m\u001b[0m\n\u001b[1;32m----> 5\u001b[1;33m \u001b[0mplt\u001b[0m\u001b[1;33m.\u001b[0m\u001b[0maxis\u001b[0m\u001b[1;33m(\u001b[0m\u001b[1;33m[\u001b[0m\u001b[1;36m0\u001b[0m\u001b[1;33m,\u001b[0m \u001b[0mtime_step\u001b[0m\u001b[1;33m[\u001b[0m\u001b[1;33m-\u001b[0m\u001b[1;36m1\u001b[0m\u001b[1;33m]\u001b[0m\u001b[1;33m,\u001b[0m \u001b[1;36m0\u001b[0m\u001b[1;33m,\u001b[0m \u001b[0mmax\u001b[0m\u001b[1;33m(\u001b[0m\u001b[0msick\u001b[0m\u001b[1;33m)\u001b[0m\u001b[1;33m+\u001b[0m\u001b[1;36m5\u001b[0m\u001b[1;33m]\u001b[0m\u001b[1;33m)\u001b[0m\u001b[1;33m\u001b[0m\u001b[0m\n\u001b[0m\u001b[0;32m      6\u001b[0m \u001b[0mplt\u001b[0m\u001b[1;33m.\u001b[0m\u001b[0mtitle\u001b[0m\u001b[1;33m(\u001b[0m\u001b[1;34m'Roommates'\u001b[0m\u001b[1;33m)\u001b[0m\u001b[1;33m\u001b[0m\u001b[0m\n\u001b[0;32m      7\u001b[0m \u001b[0mplt\u001b[0m\u001b[1;33m.\u001b[0m\u001b[0mshow\u001b[0m\u001b[1;33m(\u001b[0m\u001b[1;33m)\u001b[0m\u001b[1;33m\u001b[0m\u001b[0m\n",
      "\u001b[1;31mNameError\u001b[0m: name 'time_step' is not defined"
     ]
    },
    {
     "data": {
      "image/png": "[encoded data removed]",
      "text/plain": [
       "<matplotlib.figure.Figure at 0x7f55bfd08790>"
      ]
     },
     "metadata": {},
     "output_type": "display_data"
    }
   ],
   "source": [
    "import matplotlib.pyplot as plt\n",
    "plt.plot(time_stepG,sickG)\n",
    "plt.ylabel('Number Sick')\n",
    "plt.xlabel('Steps')\n",
    "plt.axis([0, time_step[-1], 0, max(sick)+5])\n",
    "plt.title('Roommates')\n",
    "plt.show()\n",
    "\n",
    "plt.plot(time_stepF,sickF)\n",
    "plt.ylabel('Number Sick')\n",
    "plt.xlabel('Steps')\n",
    "plt.axis([0, time_step[-1], 0, max(sick)+5])\n",
    "plt.title('No Roommates')\n",
    "plt.show()"
   ]
  },
  {
   "cell_type": "code",
   "execution_count": 31,
   "metadata": {
    "collapsed": true
   },
   "outputs": [],
   "source": [
    "def run_lots(G,F,iters,total):\n",
    "    #where G is graph one, F is graph 2, iters is the number of steps in each run, total is the total number of runs\n",
    "    maxG = []\n",
    "    maxF = []\n",
    "    avgG = []\n",
    "    avgF = []\n",
    "    for i in range(total):\n",
    "        sickG,time_stepG = run_graph(G.copy(),iters)\n",
    "        sickF,time_stepF = run_graph(F.copy(),iters)\n",
    "        maxG.append(max(sickG))\n",
    "        maxF.append(max(sickF))\n",
    "        avgG.append(sum(sickG)/len(sickG))\n",
    "        avgF.append(sum(sickF)/len(sickF))\n",
    "    return maxG,avgG,maxF,avgF"
   ]
  },
  {
   "cell_type": "code",
   "execution_count": 32,
   "metadata": {
    "collapsed": true
   },
   "outputs": [],
   "source": [
    "def frequencyFinder(stats):\n",
    "    res = {}\n",
    "    for i in stats:\n",
    "        if i not in res:\n",
    "            res[i] = 1\n",
    "        else:\n",
    "            res[i] +=1\n",
    "    \n",
    "    keys = sorted(res.keys())\n",
    "    values = []\n",
    "    for key in keys:\n",
    "        values.append(res[key])\n",
    "    return keys,values\n",
    "        "
   ]
  },
  {
   "cell_type": "code",
   "execution_count": 33,
   "metadata": {
    "collapsed": false
   },
   "outputs": [
    {
     "data": {
      "image/png": "[encoded data removed]",
      "text/plain": [
       "<matplotlib.figure.Figure at 0x7f55bfb7f390>"
      ]
     },
     "metadata": {},
     "output_type": "display_data"
    },
    {
     "data": {
      "image/png": "[encoded data removed]",
      "text/plain": [
       "<matplotlib.figure.Figure at 0x7f55ca71f850>"
      ]
     },
     "metadata": {},
     "output_type": "display_data"
    },
    {
     "data": {
      "image/png": "[encoded data removed]",
      "text/plain": [
       "<matplotlib.figure.Figure at 0x7f55bfb3ed50>"
      ]
     },
     "metadata": {},
     "output_type": "display_data"
    },
    {
     "data": {
      "image/png": "[encoded data removed]",
      "text/plain": [
       "<matplotlib.figure.Figure at 0x7f55bfc02f90>"
      ]
     },
     "metadata": {},
     "output_type": "display_data"
    }
   ],
   "source": [
    "a,b,c,d = run_lots(G,F,50,100)\n",
    "# print('Max for G: ', a)\n",
    "# print('Average for G: ',b)\n",
    "# print('Max for F: ',c)\n",
    "# print('Average for F: ',d)\n",
    "\n",
    "keya,vala = frequencyFinder(a)\n",
    "keyb,valb = frequencyFinder(b)\n",
    "keyc,valc = frequencyFinder(c)\n",
    "keyd,vald = frequencyFinder(d)\n",
    "\n",
    "\n",
    "plt.plot(keya,vala)\n",
    "plt.ylabel('Frequency (G)')\n",
    "plt.xlabel('Max Sick')\n",
    "plt.title('Roommates')\n",
    "plt.show()\n",
    "\n",
    "plt.plot(keyb,valb)\n",
    "\n",
    "plt.ylabel('Frequency (G)')\n",
    "plt.xlabel('Avg Sick')\n",
    "plt.title('Roommates')\n",
    "plt.show()\n",
    "\n",
    "plt.plot(keyc,valc)\n",
    "plt.ylabel('Frequency (F)')\n",
    "plt.xlabel('Max Sick')\n",
    "plt.title('No Roommates')\n",
    "plt.show()\n",
    "\n",
    "plt.plot(keyd,vald)\n",
    "plt.ylabel('Frequency (F)')\n",
    "plt.xlabel('Avg Sick')\n",
    "plt.title('No Roommates')\n",
    "plt.show()"
   ]
  },
  {
   "cell_type": "code",
   "execution_count": 34,
   "metadata": {
    "collapsed": false
   },
   "outputs": [
    {
     "data": {
      "image/png": "[encoded data removed]",
      "text/plain": [
       "<matplotlib.figure.Figure at 0x7f55c80863d0>"
      ]
     },
     "metadata": {},
     "output_type": "display_data"
    }
   ],
   "source": [
    "import thinkplot\n",
    "import thinkstats2\n",
    "thinkplot.Cdf(thinkstats2.Cdf(a), label=\"BA with Roommates\")\n",
    "thinkplot.Cdf(thinkstats2.Cdf(c), label=\"BA\")\n",
    "thinkplot.config(xlabel='Max Infected', ylabel='CDF',title=\"Peak Sick Nodes\")"
   ]
  },
  {
   "cell_type": "code",
   "execution_count": null,
   "metadata": {
    "collapsed": false
   },
   "outputs": [],
   "source": [
    "import thinkplot\n",
    "import thinkstats2\n",
    "thinkplot.Cdf(thinkstats2.Cdf(b), label=\"BA with Roomates\")\n",
    "thinkplot.Cdf(thinkstats2.Cdf(d), label=\"BA\")\n",
    "thinkplot.config(xlabel='Average Infected', ylabel='CDF',title=\"Average Sick Nodes\")"
   ]
  },
  {
   "cell_type": "code",
   "execution_count": null,
   "metadata": {
    "collapsed": true
   },
   "outputs": [],
   "source": [
    "class MeaslesStudent(object):\n",
    "    \"\"\" \n",
    "    Base student; used as node in network. \n",
    "    \"\"\"\n",
    "\n",
    "    def __init__(self, immune_strength=5, tolerance=50, totalUnaware=1):\n",
    "        self.immune_strength = immune_strength #rate of lowering exposure\n",
    "        self.tolerance = tolerance # value at which is_sick\n",
    "        self.exposure = 0\n",
    "        self.is_sick = 0 # 0: not sick; 1: sick; 2: was sick already; 3: infectious but unaware\n",
    "        self.days_unaware = 0\n",
    "        self.total_unaware = totalUnaware \n",
    "        \n",
    "    def process_exposure(self):\n",
    "        if self.is_sick == 2:\n",
    "            return\n",
    "        self.exposure -= self.immune_strength\n",
    "        \n",
    "        if self.is_sick == 1:\n",
    "            if self.exposure <= 0:\n",
    "                self.is_sick = 2\n",
    "        elif self.is_sick == 0:\n",
    "            if self.exposure >= self.tolerance:\n",
    "                self.is_sick = 3\n",
    "        elif self.is_sick == 3:\n",
    "            self.days_unaware += 1\n",
    "            if self.days_unaware >= self.total_unaware:\n",
    "                self.is_sick = 1"
   ]
  },
  {
   "cell_type": "code",
   "execution_count": null,
   "metadata": {
    "collapsed": false
   },
   "outputs": [],
   "source": [
    "def create_student_ba_graph(size=50, new_edges_per_node=3, roommate=True):\n",
    "    \"\"\" \n",
    "    Creates a graph of [size] Student nodes, using weighted connections.\n",
    "    Eventually, efficiency might be a concern here. Should be fine\n",
    "    for n=90, though.\n",
    "    TODO: make it return two graphs from the same seed, one made with no incubation period and one with one.\n",
    "    \"\"\"\n",
    "    G = nx.Graph()\n",
    "    if size <= 0:\n",
    "        return G\n",
    "    \n",
    "    first_student = MeaslesStudent()\n",
    "    G.add_node(first_student)\n",
    "    \n",
    "    students_list = []\n",
    "    students_list.append([first_student,0])\n",
    "    \n",
    "#     F = G.copy()\n",
    "    \n",
    "    for i in range(size):\n",
    "        im = random.randint(4,8)\n",
    "        tol = random.randint(40,80)\n",
    "        new_student = MeaslesStudent(\n",
    "            immune_strength = im, \n",
    "            tolerance = tol,\n",
    "            totalUnaware = 4);\n",
    "        G.add_node(new_student)\n",
    "        all_students = range(len(students_list))\n",
    "        probs_base = [float(k[1]+1) for k in students_list]\n",
    "        probs = probs_base/np.sum(probs_base)\n",
    "        number_of_friends = min(len(students_list), new_edges_per_node)\n",
    "        new_friends = np.random.choice(all_students, size=number_of_friends, replace=False, p=probs)\n",
    "        for friend in new_friends:\n",
    "            students_list[friend][1] += 1\n",
    "            G.add_edge(new_student, students_list[friend][0])\n",
    "        students_list.append([new_student, nx.degree(G, new_student)])\n",
    "\n",
    "        \n",
    "    social = {}\n",
    "    for edge in G.edges():\n",
    "        social[edge] = random.randint(1,10)\n",
    "        \n",
    "    nx.set_edge_attributes(G, \"social\", social)\n",
    "    #Create Roommates\n",
    "    if roommate == True:\n",
    "#         \n",
    "        G = create_Roommates(G)\n",
    "    \n",
    "    F = G.copy() #deepcopy perhaps?\n",
    "    for node in F.nodes():\n",
    "        im_s = int(node.immune_strength)\n",
    "        tol = int(node.tolerance)\n",
    "        node = Student(immune_strength = im_s, tolerance = tol)\n",
    "        \n",
    "    \n",
    "    return G,F\n",
    "\n",
    "\n",
    "\n",
    "def create_Roommates(G):\n",
    "    all_nodes = G.nodes() \n",
    "    random.shuffle(all_nodes)\n",
    "    for i in range(len(all_nodes) // 2):\n",
    "        first_roommate = all_nodes[2*i]\n",
    "        second_roommate = all_nodes[(2*i) + 1]\n",
    "        if not G.has_edge(first_roommate, second_roommate):\n",
    "            G.add_edge(first_roommate, second_roommate)\n",
    "            this_pair = G[first_roommate][second_roommate]\n",
    "            this_pair[\"social\"] = 20\n",
    "        else:\n",
    "            this_pair = G[first_roommate][second_roommate]\n",
    "            this_pair[\"social\"] = 20\n",
    "    return G\n",
    "\n",
    "def step(G):\n",
    "    total_sick = 0\n",
    "    for node in G.nodes():\n",
    "        if node.is_sick == 0:\n",
    "            for neighbor in G.neighbors(node):\n",
    "                if neighbor.is_sick == 1:\n",
    "                    node.exposure += G[node][neighbor][\"social\"]\n",
    "        elif node.is_sick == 1 or node.is_sick == 3:\n",
    "            total_sick += 1\n",
    "    for node in G.nodes():\n",
    "        node.process_exposure() #separate step\n",
    "    \n",
    "    return total_sick"
   ]
  },
  {
   "cell_type": "code",
   "execution_count": null,
   "metadata": {
    "collapsed": true
   },
   "outputs": [],
   "source": [
    "def step(G):\n",
    "    total_sick = 0\n",
    "    for node in G.nodes():\n",
    "        if node.is_sick == 0:\n",
    "            for neighbor in G.neighbors(node):\n",
    "                if neighbor.is_sick == 1:\n",
    "                    node.exposure += (G[node][neighbor][\"social\"]/2) #todo: differentiate for student plain.\n",
    "                if neighbor.is_sick == 3:\n",
    "                    node.exposure += G[node][neighbor][\"social\"]\n",
    "                    \n",
    "        elif node.is_sick == 1 or node.is_sick == 3:\n",
    "            total_sick += 1\n",
    "    for node in G.nodes():\n",
    "        node.process_exposure() #separate step\n",
    "    \n",
    "    return total_sick\n",
    "\n",
    "def run_graph(graph, iters):\n",
    "    #instantiate patient zero being the same node in both \n",
    "    patient_zero = graph.nodes()[0]\n",
    "    patient_zero.exposure = 100\n",
    "    patient_zero.is_sick = 1\n",
    "\n",
    "    sick = []\n",
    "    time_step = []\n",
    "    for i in range(iters):\n",
    "        sick.append(step(graph))\n",
    "        time_step.append(i)\n",
    "    return sick, time_step"
   ]
  },
  {
   "cell_type": "code",
   "execution_count": 15,
   "metadata": {
    "collapsed": false
   },
   "outputs": [],
   "source": [
    "#instantiate the graphs\n",
    "graphs = create_student_ba_graph()\n",
    "#G has roommates, F does not\n",
    "G = graphs[0]\n",
    "F = graphs[1]\n",
    "#run the model a certain number of steps for roommate pairs and without\n",
    "sickG,time_stepG = run_graph(G.copy(),50)\n",
    "sickF,time_stepF = run_graph(F.copy(),50)\n",
    "    "
   ]
  },
  {
   "cell_type": "code",
   "execution_count": 16,
   "metadata": {
    "collapsed": false
   },
   "outputs": [
    {
     "data": {
      "image/png": "[encoded data removed]",
      "text/plain": [
       "<matplotlib.figure.Figure at 0x7f55ca766a50>"
      ]
     },
     "metadata": {},
     "output_type": "display_data"
    },
    {
     "data": {
      "image/png": "[encoded data removed]",
      "text/plain": [
       "<matplotlib.figure.Figure at 0x7f55bfd3d990>"
      ]
     },
     "metadata": {},
     "output_type": "display_data"
    }
   ],
   "source": [
    "plt.plot(time_stepG,sickG)\n",
    "plt.ylabel('Number Sick')\n",
    "plt.xlabel('Steps')\n",
    "plt.axis([0, time_stepG[-1], 0, max(sickG)+5])\n",
    "plt.title('Measles')\n",
    "plt.show()\n",
    "\n",
    "plt.plot(time_stepF,sickF)\n",
    "plt.ylabel('Number Sick')\n",
    "plt.xlabel('Steps')\n",
    "plt.axis([0, time_stepF[-1], 0, max(sickF)+5])\n",
    "plt.title('Not Measles')\n",
    "plt.show()"
   ]
  },
  {
   "cell_type": "code",
   "execution_count": 35,
   "metadata": {
    "collapsed": true
   },
   "outputs": [],
   "source": [
    "iters = 50\n",
    "total = 100\n",
    "\n",
    "maxG, avgG, maxF, avgF = run_lots(G.copy(),F.copy(),iters,total)"
   ]
  },
  {
   "cell_type": "code",
   "execution_count": 36,
   "metadata": {
    "collapsed": false
   },
   "outputs": [
    {
     "data": {
      "image/png": "[encoded data removed]",
      "text/plain": [
       "<matplotlib.figure.Figure at 0x7f55bfd90450>"
      ]
     },
     "metadata": {},
     "output_type": "display_data"
    }
   ],
   "source": [
    "thinkplot.Cdf(thinkstats2.Cdf(maxG), label=\"BA with Roommates\")\n",
    "thinkplot.Cdf(thinkstats2.Cdf(maxF), label=\"BA\")\n",
    "thinkplot.config(xlabel='Max Infected', ylabel='CDF',title=\"Peak Sick Nodes\")"
   ]
  },
  {
   "cell_type": "code",
   "execution_count": 37,
   "metadata": {
    "collapsed": false
   },
   "outputs": [
    {
     "data": {
      "image/png": "[encoded data removed]",
      "text/plain": [
       "<matplotlib.figure.Figure at 0x7f55bfa5bd90>"
      ]
     },
     "metadata": {},
     "output_type": "display_data"
    }
   ],
   "source": [
    "thinkplot.Cdf(thinkstats2.Cdf(avgG), label=\"BA with Measles\")\n",
    "thinkplot.Cdf(thinkstats2.Cdf(avgF), label=\"BA without\")\n",
    "thinkplot.config(xlabel='Average Infected', ylabel='CDF',title=\"Average Sick Nodes\")"
   ]
  },
  {
   "cell_type": "code",
   "execution_count": null,
   "metadata": {
    "collapsed": true
   },
   "outputs": [],
   "source": []
  },
  {
   "cell_type": "code",
   "execution_count": null,
   "metadata": {
    "collapsed": true
   },
   "outputs": [],
   "source": []
  },
  {
   "cell_type": "code",
   "execution_count": null,
   "metadata": {
    "collapsed": true
   },
   "outputs": [],
   "source": []
  }
 ],
 "metadata": {
  "kernelspec": {
   "display_name": "Python [Root]",
   "language": "python",
   "name": "Python [Root]"
  },
  "language_info": {
   "codemirror_mode": {
    "name": "ipython",
    "version": 2
   },
   "file_extension": ".py",
   "mimetype": "text/x-python",
   "name": "python",
   "nbconvert_exporter": "python",
   "pygments_lexer": "ipython2",
   "version": "2.7.12"
  }
 },
 "nbformat": 4,
 "nbformat_minor": 0
}
